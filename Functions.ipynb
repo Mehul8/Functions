{
  "nbformat": 4,
  "nbformat_minor": 0,
  "metadata": {
    "colab": {
      "provenance": []
    },
    "kernelspec": {
      "name": "python3",
      "display_name": "Python 3"
    },
    "language_info": {
      "name": "python"
    }
  },
  "cells": [
    {
      "cell_type": "markdown",
      "source": [
        "#Functions\n",
        "#que1.  What is the difference between a function and a method in Python?\n",
        "Function: A standalone block of code not tied to any object or class. It’s called by its name.Method: A function that belongs to a class and is called on an object or class. It usually takes self as its first parameter.\n",
        "\n",
        "#Que 2.  Explain the concept of function arguments and parameters in Python.\n",
        "In Python, parameters are variables defined in a function’s signature, acting as placeholders for values. Arguments are the actual values passed to the function when called. For example, in def greet(name): the name is a parameter, and in greet(\"Alice\"), \"Alice\" is the argument.\n",
        "\n",
        "#Que 3. What are the different ways to define and call a function in Python?\n",
        "In Python, you define a function using def and call it by its name followed by parentheses. For example, def my_function(): print(\"Hello!\") and call it with my_function(). You can add parameters, like def greet(name): print(f\"Hello, {name}\") and call it with greet(\"Alice\"). Functions can return values with return, like def add(a, b): return a + b, and call it with add(3, 4). You can use default parameters, like def greet(name=\"Guest\"), and call with greet() or greet(\"Alice\"). For keyword arguments, use def greet(name, message=\"Hello\"), calling with greet(name=\"Alice\", message=\"Hi\"). You can also use arbitrary arguments with *args and **kwargs, like def print_args(*args, **kwargs): to accept multiple values.\n",
        "\n",
        "#Que 4.  What is the purpose of the `return` statement in a Python function?\n",
        "\n",
        "The `return` statement in a Python function is used to send a result back to the caller. It ends the function's execution and passes the specified value to where the function was called. For example, `def add(a, b): return a + b` returns the sum of `a` and `b`.\n",
        "\n",
        "#Que 5.  What are iterators in Python and how do they differ from iterables?\n",
        "\n",
        "An **iterator** is an object that can be used to iterate over a sequence using `next()`. An **iterable** is any object that can return an iterator (e.g., a list or string) using `iter()`. The key difference is that an iterable can be looped over, while an iterator performs the iteration.\n",
        "\n",
        "#Que 6. Explain the concept of generators in Python and how they are defined.\n",
        "Generators in Python are iterables that yield values one at a time using `yield`, which pauses the function’s state. They are defined like functions but use `yield` instead of `return`. For example, `def count_up_to(n): yield n` generates values one by one when iterated over, saving memory.\n",
        "\n",
        "#Que 7.  What are the advantages of using generators over regular functions?\n",
        "\n",
        "Generators are more memory-efficient than regular functions because they generate values on the fly, one at a time, without storing them in memory. This makes them ideal for working with large datasets. They also allow lazy evaluation, meaning they only compute values when needed, which can improve performance for certain tasks.\n",
        "\n",
        "#Que 8.  What is a lambda function in Python and when is it typically used?\n",
        "A lambda function in Python is a small, anonymous function defined using the `lambda` keyword. It can have any number of arguments but only one expression, which is evaluated and returned. Lambda functions are typically used for short, simple operations, often as arguments to higher-order functions like `map()`, `filter()`, or `sorted()`.\n",
        "\n",
        "Example:\n",
        "```python\n",
        "add = lambda x, y: x + y\n",
        "print(add(2, 3))  # Output: 5\n",
        "```\n",
        "#Que 9. Explain the purpose and usage of the `map()` function in Python.\n",
        "The `map()` function in Python applies a given function to all items in an iterable (like a list) and returns a map object (an iterator) with the results. It’s commonly used to apply a function to each element of an iterable without needing a loop.\n",
        "\n",
        "Example:\n",
        "```python\n",
        "numbers = [1, 2, 3]\n",
        "squared = map(lambda x: x**2, numbers)\n",
        "print(list(squared))  # Output: [1, 4, 9]\n",
        "```\n",
        "#Que 10. What is the difference between `map()`, `reduce()`, and `filter()` functions in Python?\n",
        "`map()` applies a function to all items in an iterable and returns the results. `reduce()` applies a function cumulatively to the items, reducing them to a single value. `filter()` filters items based on a condition and returns the items that satisfy it.\n",
        "\n",
        "#Que 11. Using pen & Paper write the internal mechanism for sum operation using  reduce function on this given\n",
        "list:[47,11,42,13];\n",
        "Here’s how the internal mechanism for the sum operation using the `reduce()` function works on the list `[47, 11, 42, 13]`:\n",
        "\n",
        "1. **Initial Setup:**\n",
        "   - `reduce()` applies a function cumulatively to the items in the iterable. For sum, the function is `lambda x, y: x + y`.\n",
        "\n",
        "2. **Step-by-step Process:**\n",
        "\n",
        "   - Initial values: `x = 47`, `y = 11` (first two items).\n",
        "   - Apply `lambda x, y: x + y`:  \n",
        "     `47 + 11 = 58`\n",
        "   - Now, the result is `58`.\n",
        "\n",
        "   - Next, take `58` (result from previous operation) and the next item `42`.\n",
        "   - Apply `lambda x, y: x + y`:  \n",
        "     `58 + 42 = 100`\n",
        "   - Now, the result is `100`.\n",
        "\n",
        "   - Finally, take `100` (result from previous operation) and the next item `13`.\n",
        "   - Apply `lambda x, y: x + y`:  \n",
        "     `100 + 13 = 113`\n",
        "\n",
        "3. **Final Result:**\n",
        "   - The final result after applying `reduce()` on the list `[47, 11, 42, 13]` is `113`.\n",
        "\n",
        "So, the internal mechanism is essentially a cumulative application of the function that adds each element to the running total.\n",
        "\n",
        "\n"
      ],
      "metadata": {
        "id": "UyZyfBLHkY7E"
      }
    },
    {
      "cell_type": "code",
      "execution_count": 27,
      "metadata": {
        "colab": {
          "base_uri": "https://localhost:8080/"
        },
        "id": "oMaVjqVJkXbz",
        "outputId": "cd472e18-0b91-44c7-bc9a-fb12226bcad5"
      },
      "outputs": [
        {
          "output_type": "stream",
          "name": "stdout",
          "text": [
            "12\n"
          ]
        }
      ],
      "source": [
        "#que1 Write a Python function that takes a list of numbers as input and returns the sum of all even numbers in\n",
        "#the list.\n",
        "\n",
        "def sum_even_numbers(numbers):\n",
        "    sum = 0\n",
        "    for num in numbers:\n",
        "        if num % 2 == 0:\n",
        "            sum += num\n",
        "    return sum\n",
        "numbers = [1, 2, 3, 4, 5, 6]\n",
        "print(sum_even_numbers(numbers))"
      ]
    },
    {
      "cell_type": "code",
      "source": [
        "#Que2  Create a Python function that accepts a string and returns the reverse of that string.\n",
        "\n",
        "def reverse_string(string):\n",
        "    return string[::-1]\n",
        "string = \"Hello, World!\"\n",
        "print(reverse_string(string))"
      ],
      "metadata": {
        "colab": {
          "base_uri": "https://localhost:8080/"
        },
        "id": "oU0HGKEMo5Kx",
        "outputId": "bcb47fbd-da7e-424b-b9e9-ae1e79563cd5"
      },
      "execution_count": 30,
      "outputs": [
        {
          "output_type": "stream",
          "name": "stdout",
          "text": [
            "!dlroW ,olleH\n"
          ]
        }
      ]
    },
    {
      "cell_type": "code",
      "source": [
        "#que3  Implement a Python function that takes a list of integers and returns a new list containing the squares of\n",
        "#each number\n",
        "def square_numbers(numbers):\n",
        "    return [num ** 2 for num in numbers]\n",
        "    numbers = [1, 2, 3, 4, 5]\n",
        "squared = square_numbers(numbers)\n",
        "print(squared)\n"
      ],
      "metadata": {
        "colab": {
          "base_uri": "https://localhost:8080/"
        },
        "id": "xujFPkWro5C_",
        "outputId": "c3cfa0d2-6e57-4b3a-c8ee-660b79831aca"
      },
      "execution_count": 31,
      "outputs": [
        {
          "output_type": "stream",
          "name": "stdout",
          "text": [
            "[1, 4, 9, 16, 25, 36]\n"
          ]
        }
      ]
    },
    {
      "cell_type": "code",
      "source": [
        "#Que4 Write a Python function that checks if a given number is prime or not from 1 to 200\n",
        "\n",
        "def is_prime(n):\n",
        "    if n <= 1:\n",
        "        return False\n",
        "    for i in range(2, int(n ** 0.5) + 1):\n",
        "        if n % i == 0:\n",
        "            return False\n",
        "    return True\n",
        "\n",
        "# Check prime numbers from 1 to 200\n",
        "for num in range(1, 201):\n",
        "    if is_prime(num):\n",
        "        print(num, \"is prime\")\n"
      ],
      "metadata": {
        "colab": {
          "base_uri": "https://localhost:8080/"
        },
        "id": "QsN0j2Pwo47c",
        "outputId": "bc089984-b397-4a85-8d7d-89bb8e016e86"
      },
      "execution_count": 34,
      "outputs": [
        {
          "output_type": "stream",
          "name": "stdout",
          "text": [
            "2 is prime\n",
            "3 is prime\n",
            "5 is prime\n",
            "7 is prime\n",
            "11 is prime\n",
            "13 is prime\n",
            "17 is prime\n",
            "19 is prime\n",
            "23 is prime\n",
            "29 is prime\n",
            "31 is prime\n",
            "37 is prime\n",
            "41 is prime\n",
            "43 is prime\n",
            "47 is prime\n",
            "53 is prime\n",
            "59 is prime\n",
            "61 is prime\n",
            "67 is prime\n",
            "71 is prime\n",
            "73 is prime\n",
            "79 is prime\n",
            "83 is prime\n",
            "89 is prime\n",
            "97 is prime\n",
            "101 is prime\n",
            "103 is prime\n",
            "107 is prime\n",
            "109 is prime\n",
            "113 is prime\n",
            "127 is prime\n",
            "131 is prime\n",
            "137 is prime\n",
            "139 is prime\n",
            "149 is prime\n",
            "151 is prime\n",
            "157 is prime\n",
            "163 is prime\n",
            "167 is prime\n",
            "173 is prime\n",
            "179 is prime\n",
            "181 is prime\n",
            "191 is prime\n",
            "193 is prime\n",
            "197 is prime\n",
            "199 is prime\n"
          ]
        }
      ]
    },
    {
      "cell_type": "code",
      "source": [
        "#Que5 Create an iterator class in Python that generates the Fibonacci sequence up to a specified number of\n",
        "#terms.\n",
        "class FibonacciIterator:\n",
        "    def __init__(self, terms):\n",
        "        self.terms = terms\n",
        "        self.a, self.b = 0, 1\n",
        "        self.count = 0\n",
        "\n",
        "    def __iter__(self):\n",
        "        return self\n",
        "\n",
        "    def __next__(self):\n",
        "        if self.count < self.terms:\n",
        "            result = self.a\n",
        "            self.a, self.b = self.b, self.a + self.b\n",
        "            self.count += 1\n",
        "            return result\n",
        "        else:\n",
        "            raise StopIteration\n",
        "\n",
        "fib = FibonacciIterator(10)  # Generate the first 10 Fibonacci numbers\n",
        "for number in fib:\n",
        "    print(number)"
      ],
      "metadata": {
        "colab": {
          "base_uri": "https://localhost:8080/"
        },
        "id": "qfP9wyxUo4zO",
        "outputId": "0201c3c1-c3d2-4b35-9c14-72edd4bf5d92"
      },
      "execution_count": 35,
      "outputs": [
        {
          "output_type": "stream",
          "name": "stdout",
          "text": [
            "0\n",
            "1\n",
            "1\n",
            "2\n",
            "3\n",
            "5\n",
            "8\n",
            "13\n",
            "21\n",
            "34\n"
          ]
        }
      ]
    },
    {
      "cell_type": "code",
      "source": [
        "#Que6 Write a generator function in Python that yields the powers of 2 up to a given exponent\n",
        "def powers_of_2(exponent):\n",
        "    for i in range(exponent + 1):\n",
        "        yield 2 ** i\n",
        "\n",
        "\n",
        "for power in powers_of_2(5):\n",
        "    print(power)"
      ],
      "metadata": {
        "colab": {
          "base_uri": "https://localhost:8080/"
        },
        "id": "cT_5mIpHo4sH",
        "outputId": "bec6a06f-bc45-4ea8-acc2-7c236552ebb0"
      },
      "execution_count": 36,
      "outputs": [
        {
          "output_type": "stream",
          "name": "stdout",
          "text": [
            "1\n",
            "2\n",
            "4\n",
            "8\n",
            "16\n",
            "32\n"
          ]
        }
      ]
    },
    {
      "cell_type": "code",
      "source": [
        "#Que7 Implement a generator function that reads a file line by line and yields each line as a string.\n",
        "def read_file_line_by_line(file_path):\n",
        "    with open(file_path, 'r') as file:\n",
        "        for line in file:\n",
        "            yield line.strip()\n",
        "\n",
        "# Example usage\n",
        "file_path = r'PW skills 900'\n",
        "for line in read_file_line_by_line(file_path):\n",
        "    print(line)\n",
        "\n"
      ],
      "metadata": {
        "colab": {
          "base_uri": "https://localhost:8080/",
          "height": 349
        },
        "id": "vIWl5rkxo4nJ",
        "outputId": "fb12096d-1149-476d-bbe3-7ce3f0fe6673"
      },
      "execution_count": 60,
      "outputs": [
        {
          "output_type": "error",
          "ename": "FileNotFoundError",
          "evalue": "[Errno 2] No such file or directory: 'PW skills 900'",
          "traceback": [
            "\u001b[0;31m---------------------------------------------------------------------------\u001b[0m",
            "\u001b[0;31mFileNotFoundError\u001b[0m                         Traceback (most recent call last)",
            "\u001b[0;32m<ipython-input-60-4f7aa6bb769b>\u001b[0m in \u001b[0;36m<cell line: 0>\u001b[0;34m()\u001b[0m\n\u001b[1;32m      7\u001b[0m \u001b[0;31m# Example usage\u001b[0m\u001b[0;34m\u001b[0m\u001b[0;34m\u001b[0m\u001b[0m\n\u001b[1;32m      8\u001b[0m \u001b[0mfile_path\u001b[0m \u001b[0;34m=\u001b[0m \u001b[0;34mr'PW skills 900'\u001b[0m\u001b[0;34m\u001b[0m\u001b[0;34m\u001b[0m\u001b[0m\n\u001b[0;32m----> 9\u001b[0;31m \u001b[0;32mfor\u001b[0m \u001b[0mline\u001b[0m \u001b[0;32min\u001b[0m \u001b[0mread_file_line_by_line\u001b[0m\u001b[0;34m(\u001b[0m\u001b[0mfile_path\u001b[0m\u001b[0;34m)\u001b[0m\u001b[0;34m:\u001b[0m\u001b[0;34m\u001b[0m\u001b[0;34m\u001b[0m\u001b[0m\n\u001b[0m\u001b[1;32m     10\u001b[0m     \u001b[0mprint\u001b[0m\u001b[0;34m(\u001b[0m\u001b[0mline\u001b[0m\u001b[0;34m)\u001b[0m\u001b[0;34m\u001b[0m\u001b[0;34m\u001b[0m\u001b[0m\n\u001b[1;32m     11\u001b[0m \u001b[0;34m\u001b[0m\u001b[0m\n",
            "\u001b[0;32m<ipython-input-60-4f7aa6bb769b>\u001b[0m in \u001b[0;36mread_file_line_by_line\u001b[0;34m(file_path)\u001b[0m\n\u001b[1;32m      1\u001b[0m \u001b[0;31m#Que7 Implement a generator function that reads a file line by line and yields each line as a string.\u001b[0m\u001b[0;34m\u001b[0m\u001b[0;34m\u001b[0m\u001b[0m\n\u001b[1;32m      2\u001b[0m \u001b[0;32mdef\u001b[0m \u001b[0mread_file_line_by_line\u001b[0m\u001b[0;34m(\u001b[0m\u001b[0mfile_path\u001b[0m\u001b[0;34m)\u001b[0m\u001b[0;34m:\u001b[0m\u001b[0;34m\u001b[0m\u001b[0;34m\u001b[0m\u001b[0m\n\u001b[0;32m----> 3\u001b[0;31m     \u001b[0;32mwith\u001b[0m \u001b[0mopen\u001b[0m\u001b[0;34m(\u001b[0m\u001b[0mfile_path\u001b[0m\u001b[0;34m,\u001b[0m \u001b[0;34m'r'\u001b[0m\u001b[0;34m)\u001b[0m \u001b[0;32mas\u001b[0m \u001b[0mfile\u001b[0m\u001b[0;34m:\u001b[0m\u001b[0;34m\u001b[0m\u001b[0;34m\u001b[0m\u001b[0m\n\u001b[0m\u001b[1;32m      4\u001b[0m         \u001b[0;32mfor\u001b[0m \u001b[0mline\u001b[0m \u001b[0;32min\u001b[0m \u001b[0mfile\u001b[0m\u001b[0;34m:\u001b[0m\u001b[0;34m\u001b[0m\u001b[0;34m\u001b[0m\u001b[0m\n\u001b[1;32m      5\u001b[0m             \u001b[0;32myield\u001b[0m \u001b[0mline\u001b[0m\u001b[0;34m.\u001b[0m\u001b[0mstrip\u001b[0m\u001b[0;34m(\u001b[0m\u001b[0;34m)\u001b[0m\u001b[0;34m\u001b[0m\u001b[0;34m\u001b[0m\u001b[0m\n",
            "\u001b[0;31mFileNotFoundError\u001b[0m: [Errno 2] No such file or directory: 'PW skills 900'"
          ]
        }
      ]
    },
    {
      "cell_type": "code",
      "source": [
        "#Que8  Use a lambda function in Python to sort a list of tuples based on the second element of each tuple\n",
        "tuples_list = [(1, 3), (3, 1), (2, 2), (4, 0)]\n",
        "sorted_list = sorted(tuples_list, key=lambda x: x[1])\n",
        "print(sorted_list)\n"
      ],
      "metadata": {
        "colab": {
          "base_uri": "https://localhost:8080/"
        },
        "id": "tBDDt4P3o4hF",
        "outputId": "d3b4b033-33ca-45f4-abff-b8c488264510"
      },
      "execution_count": 61,
      "outputs": [
        {
          "output_type": "stream",
          "name": "stdout",
          "text": [
            "[(4, 0), (3, 1), (2, 2), (1, 3)]\n"
          ]
        }
      ]
    },
    {
      "cell_type": "code",
      "source": [
        "#QUE9 Write a Python program that uses `map()` to convert a list of temperatures from Celsius to Fahrenheit.\n",
        "\n",
        "celsius_temperatures = [0, 10, 20, 30, 40]\n",
        "\n",
        "fahrenheit_temperatures = list(map(lambda c: (c * 9/5) + 32, celsius_temperatures))\n",
        "\n",
        "print(\"Celsius Temperatures:\", celsius_temperatures)\n",
        "print(\"Fahrenheit Temperatures:\", fahrenheit_temperatures)"
      ],
      "metadata": {
        "colab": {
          "base_uri": "https://localhost:8080/"
        },
        "id": "8VYwMcohwN17",
        "outputId": "a463275f-7867-4bc9-98d9-8e3f2a034442"
      },
      "execution_count": 63,
      "outputs": [
        {
          "output_type": "stream",
          "name": "stdout",
          "text": [
            "Celsius Temperatures: [0, 10, 20, 30, 40]\n",
            "Fahrenheit Temperatures: [32.0, 50.0, 68.0, 86.0, 104.0]\n"
          ]
        }
      ]
    },
    {
      "cell_type": "code",
      "source": [
        "#Que10 Create a Python program that uses `filter()` to remove all the vowels from a given string\n",
        "def remove_vowels(string):\n",
        "    vowels = 'aeiouAEIOU'\n",
        "    return ''.join(filter(lambda x: x not in vowels, string))\n",
        "string = \"Hello, World!\"\n",
        "result = remove_vowels(string)\n",
        "print(result)"
      ],
      "metadata": {
        "colab": {
          "base_uri": "https://localhost:8080/"
        },
        "id": "d5RA9KmtwNs0",
        "outputId": "cd385b73-069b-4420-afe9-3ee6b10cafa4"
      },
      "execution_count": 64,
      "outputs": [
        {
          "output_type": "stream",
          "name": "stdout",
          "text": [
            "Hll, Wrld!\n"
          ]
        }
      ]
    },
    {
      "cell_type": "code",
      "source": [
        "\"\"\"Que11  Imagine an accounting routine used in a book shop. It works on a list with sublists, which look like this:\n",
        "\n",
        "Write a Python program, which returns a list with 2-tuples. Each tuple consists of the order number and the\n",
        "product of the price per item and the quantity. The product should be increased by 10,- € if the value of the\n",
        "order is smaller than 100,00 €.\n",
        "\n",
        "Write a Python program using lambda and map.\"\"\"\n",
        "\n",
        "orders = [\n",
        "    (34587, 'Learning Python, Mark Lutz', 4, 40.95),\n",
        "    (98762, 'Programming Python, Mark Lutz', 5, 56.80),\n",
        "    (77226, 'Head First Python, Paul Barry', 3, 32.95),\n",
        "    (88112, 'Einführung in Python3, Bernd Klein', 3, 24.99)\n",
        "]\n",
        "\n",
        "result = list(map(lambda order: (order[0], (order[2] * order[3]) + 10) if (order[2] * order[3]) < 100 else (order[0], order[2] * order[3]), orders))\n",
        "\n",
        "print(result)\n",
        "\n",
        "\n",
        "\n"
      ],
      "metadata": {
        "colab": {
          "base_uri": "https://localhost:8080/"
        },
        "id": "jUEZZTlfwNVJ",
        "outputId": "540f7e51-0fda-4b7e-8ff7-53e46ec52e55"
      },
      "execution_count": 69,
      "outputs": [
        {
          "output_type": "stream",
          "name": "stdout",
          "text": [
            "[(34587, 163.8), (98762, 284.0), (77226, 108.85000000000001), (88112, 84.97)]\n"
          ]
        }
      ]
    }
  ]
}